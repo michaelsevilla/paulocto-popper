{
 "cells": [
  {
   "cell_type": "code",
   "execution_count": 5,
   "metadata": {
    "collapsed": true
   },
   "outputs": [],
   "source": [
    "import os\n",
    "\n",
    "# truncate file name, add newlines\n",
    "def fmt(s, d):\n",
    "    def manreplace(w):\n",
    "        if \"dropping\" in w: return \"\"\n",
    "        if \"index\" in w:    return w + \".\\\\n\"\n",
    "        if \"vfile\" in w:    return w + \".\\\\n\"     \n",
    "        return w[:4] + \".\\\\n\"\n",
    "    words = s.split('.' )\n",
    "    label = \"(\" + str(d[s]) + \") \\\\n\"\n",
    "    if len(words) < 2:\n",
    "        return  label + manreplace(s)\n",
    "    label += manreplace(words[0]) + manreplace(words[1]) + \"...\"\n",
    "    return label\n",
    "\n",
    "def dot(fname):\n",
    "    inodes = {}; count = 0\n",
    "    parent = \"\"\n",
    "    with open(\"./tree_\" + fname + \".dot\", 'w') as of:\n",
    "        of.write(\"digraph G {\")\n",
    "        with open(\"../n1/results/\" + fname, 'r') as f:\n",
    "            for line in f:\n",
    "                if line == \"\\n\": continue\n",
    "                if \":\" == line[-2]: # it's a parent\n",
    "                    p = os.path.basename(line)[:-2]\n",
    "                    if p not in inodes:\n",
    "                        inodes[p] = count; count += 1\n",
    "                else:               # it's a child\n",
    "                    c  = line[:-1]\n",
    "                    if c not in inodes:\n",
    "                        inodes[c] = count; count += 1        \n",
    "                    of.write(\"\\\"\" + fmt(p, inodes) + \"\\\" -> \\\"\" + fmt(c, inodes) + \"\\\";\\n\")     \n",
    "        of.write(\"}\")\n",
    "dot(\"namespace_1.txt\")\n",
    "dot(\"namespace_2.txt\")\n",
    "dot(\"namespace_3.txt\")\n",
    "dot(\"namespace_4.txt\")\n",
    "dot(\"namespace_5.txt\")\n",
    "dot(\"namespace_6.txt\")"
   ]
  },
  {
   "cell_type": "markdown",
   "metadata": {
    "collapsed": true
   },
   "source": [
    "Now run ./draw_namespace.sh"
   ]
  },
  {
   "cell_type": "code",
   "execution_count": null,
   "metadata": {
    "collapsed": true
   },
   "outputs": [],
   "source": []
  }
 ],
 "metadata": {
  "kernelspec": {
   "display_name": "Python 2",
   "language": "python",
   "name": "python2"
  },
  "language_info": {
   "codemirror_mode": {
    "name": "ipython",
    "version": 2
   },
   "file_extension": ".py",
   "mimetype": "text/x-python",
   "name": "python",
   "nbconvert_exporter": "python",
   "pygments_lexer": "ipython2",
   "version": "2.7.13"
  }
 },
 "nbformat": 4,
 "nbformat_minor": 2
}
