{
 "cells": [
  {
   "cell_type": "code",
   "execution_count": 62,
   "metadata": {},
   "outputs": [],
   "source": [
    "import os\n",
    "\n",
    "inodes = {}; count = 0\n",
    "parent = \"\"\n",
    "of = open(\"./tree.dot\", 'w')\n",
    "of.write(\"digraph G {\")\n",
    "with open(\"../n1/results/namespace_all.txt\", 'r') as f:\n",
    "    for line in f:\n",
    "        if line == \"\\n\": continue\n",
    "        if \":\" == line[-2]:\n",
    "            parent = os.path.basename(line)[:-2].replace('.', '.\\\\n')\n",
    "        else:\n",
    "            child  = line[:-1].replace('.', '.\\\\n')\n",
    "            of.write(\"\\\"\" + parent + \"\\\" -> \\\"\" + child + \"\\\";\\n\")            \n",
    "of.write(\"}\")\n",
    "of.close()"
   ]
  },
  {
   "cell_type": "code",
   "execution_count": null,
   "metadata": {
    "collapsed": true
   },
   "outputs": [],
   "source": []
  }
 ],
 "metadata": {
  "kernelspec": {
   "display_name": "Python 2",
   "language": "python",
   "name": "python2"
  },
  "language_info": {
   "codemirror_mode": {
    "name": "ipython",
    "version": 2
   },
   "file_extension": ".py",
   "mimetype": "text/x-python",
   "name": "python",
   "nbconvert_exporter": "python",
   "pygments_lexer": "ipython2",
   "version": "2.7.13"
  }
 },
 "nbformat": 4,
 "nbformat_minor": 2
}
